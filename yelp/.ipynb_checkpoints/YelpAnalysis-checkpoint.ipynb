{
 "cells": [
  {
   "cell_type": "markdown",
   "metadata": {},
   "source": [
    "# Readability of Yelp Comments"
   ]
  },
  {
   "cell_type": "markdown",
   "metadata": {},
   "source": [
    "## Importing and Cleaning The Data\n",
    "\n",
    "User reviews make for an interesting data set because they are extremely diverse in length, complexity, and quality. As with any content from the internet there is lots of text processing to be performed due to volume of content and ammount of noise in the text. There are over 85 million user reviews in this data set so processing the text is very computationally expensive. \n",
    "\n",
    "I will be using Pandas, regex, and ftfy for the inital cleaning of the data. \n",
    "\n",
    "NOTE: This notebook will not run on a Kaggle kernel."
   ]
  },
  {
   "cell_type": "code",
   "execution_count": 1,
   "metadata": {},
   "outputs": [],
   "source": [
    "import pandas as pd\n",
    "import re\n",
    "import ftfy"
   ]
  },
  {
   "cell_type": "code",
   "execution_count": 2,
   "metadata": {},
   "outputs": [
    {
     "name": "stdout",
     "output_type": "stream",
     "text": [
      "Wall time: 49 ms\n"
     ]
    }
   ],
   "source": [
    "%time df = pd.read_csv('../yelp-reviews/data/yelp_review.csv', nrows=1000)"
   ]
  },
  {
   "cell_type": "markdown",
   "metadata": {},
   "source": [
    "Make sure there is no missing data in any of the columns."
   ]
  },
  {
   "cell_type": "code",
   "execution_count": 3,
   "metadata": {},
   "outputs": [],
   "source": [
    "assert df.isna().any().any().sum() == 0\n",
    "assert df.isnull().any().any().sum() == 0"
   ]
  },
  {
   "cell_type": "code",
   "execution_count": 4,
   "metadata": {},
   "outputs": [],
   "source": [
    "def clean(x):\n",
    "    # remove anything extra that may be at start or end of the text\n",
    "    x = x.strip()\n",
    "    # remove newlines and tabs that may be in the middle of the text\n",
    "    x = x.replace('\\n', ' ').replace('\\r', ' ')\n",
    "    x = x.replace('\\t', ' ').replace('\\r\\n', ' ').replace('\\n\\r', ' ')\n",
    "    # remove most urls\n",
    "    x = re.sub(r'http\\S+', ' ', x)\n",
    "    # remove duplicated punctuation. ex. !!! at the end of a sentence\n",
    "    x = re.sub(r'[\\?\\.\\!]+(?=[\\?\\.\\!])', '', x)\n",
    "    # remove extra spaces that pre-existed or were introduced by prio expressions\n",
    "    x = re.sub(r'\\s\\s+', \" \", x)\n",
    "    return x"
   ]
  },
  {
   "cell_type": "code",
   "execution_count": 5,
   "metadata": {},
   "outputs": [
    {
     "name": "stdout",
     "output_type": "stream",
     "text": [
      "Wall time: 34 ms\n"
     ]
    }
   ],
   "source": [
    "%time df.text = df.text.apply(clean)"
   ]
  },
  {
   "cell_type": "code",
   "execution_count": 6,
   "metadata": {},
   "outputs": [
    {
     "name": "stdout",
     "output_type": "stream",
     "text": [
      "Wall time: 523 ms\n"
     ]
    }
   ],
   "source": [
    "%time df.text = df.text.apply(ftfy.fix_text)"
   ]
  },
  {
   "cell_type": "markdown",
   "metadata": {},
   "source": [
    "## Calculating Readability\n",
    "\n",
    "To calculate readability scores for the reviews I am using [spaCy](https://spacy.io/) and a [spaCy pipeline](https://github.com/mholtzscher/spacy_readability) that I wrote and open sourced. Because this section is so intensive I have opted to parallelize the work using [Dask](https://dask.pydata.org/en/latest/). Even with Dask it still takes a few hours to process using 8 cpu cores."
   ]
  },
  {
   "cell_type": "code",
   "execution_count": 7,
   "metadata": {},
   "outputs": [],
   "source": [
    "import spacy\n",
    "from spacy_readability import Readability\n",
    "from dask.distributed import Client\n",
    "import dask.dataframe as dd"
   ]
  },
  {
   "cell_type": "code",
   "execution_count": 8,
   "metadata": {},
   "outputs": [],
   "source": [
    "new_cols = [\n",
    "    'flesch_kincaid_grade_level',\n",
    "    'flesch_kincaid_reading_ease',\n",
    "    'dale_chall',\n",
    "]\n",
    "\n",
    "def process_partitions(data):\n",
    "    nlp = spacy.load('en', disable=['ner', 'tagger'])\n",
    "    nlp.add_pipe(Readability())\n",
    "    temp_df = data.text.apply(text_stats, pipe=nlp)\n",
    "    temp_df.columns = new_cols\n",
    "    return data.join(temp_df)\n",
    "    \n",
    "def text_stats(text, pipe):\n",
    "    if type(text) is not str:\n",
    "        return pd.Series([0,0,0,0,0])\n",
    "    doc = pipe(text)\n",
    "    scores = pd.Series([\n",
    "        doc._.flesch_kincaid_grade_level, \n",
    "        doc._.flesch_kincaid_reading_ease,\n",
    "        doc._.dale_chall,\n",
    "    ])\n",
    "    return scores"
   ]
  },
  {
   "cell_type": "code",
   "execution_count": 9,
   "metadata": {},
   "outputs": [
    {
     "data": {
      "text/html": [
       "<table style=\"border: 2px solid white;\">\n",
       "<tr>\n",
       "<td style=\"vertical-align: top; border: 0px solid white\">\n",
       "<h3>Client</h3>\n",
       "<ul>\n",
       "  <li><b>Scheduler: </b>tcp://127.0.0.1:51178\n",
       "  <li><b>Dashboard: </b><a href='http://127.0.0.1:8787/status' target='_blank'>http://127.0.0.1:8787/status</a>\n",
       "</ul>\n",
       "</td>\n",
       "<td style=\"vertical-align: top; border: 0px solid white\">\n",
       "<h3>Cluster</h3>\n",
       "<ul>\n",
       "  <li><b>Workers: </b>8</li>\n",
       "  <li><b>Cores: </b>8</li>\n",
       "  <li><b>Memory: </b>17.10 GB</li>\n",
       "</ul>\n",
       "</td>\n",
       "</tr>\n",
       "</table>"
      ],
      "text/plain": [
       "<Client: scheduler='tcp://127.0.0.1:51178' processes=8 cores=8>"
      ]
     },
     "execution_count": 9,
     "metadata": {},
     "output_type": "execute_result"
    }
   ],
   "source": [
    "client = Client()\n",
    "client"
   ]
  },
  {
   "cell_type": "code",
   "execution_count": 10,
   "metadata": {},
   "outputs": [],
   "source": [
    "ddf = dd.from_pandas(df, npartitions=10000)"
   ]
  },
  {
   "cell_type": "code",
   "execution_count": 11,
   "metadata": {},
   "outputs": [],
   "source": [
    "ddf = ddf.set_index('review_id')\n",
    "ddf.date = dd.to_datetime(ddf.date)"
   ]
  },
  {
   "cell_type": "code",
   "execution_count": 12,
   "metadata": {},
   "outputs": [],
   "source": [
    "ddf = ddf.map_partitions(process_partitions)"
   ]
  },
  {
   "cell_type": "code",
   "execution_count": 13,
   "metadata": {},
   "outputs": [
    {
     "name": "stderr",
     "output_type": "stream",
     "text": [
      "C:\\Users\\michael\\Anaconda3\\lib\\site-packages\\bokeh\\core\\json_encoder.py:80: FutureWarning: Conversion of the second argument of issubdtype from `float` to `np.floating` is deprecated. In future, it will be treated as `np.float64 == np.dtype(float).type`.\n",
      "  elif np.issubdtype(type(obj), np.float):\n"
     ]
    }
   ],
   "source": [
    "ddf = ddf.compute()"
   ]
  },
  {
   "cell_type": "code",
   "execution_count": 14,
   "metadata": {},
   "outputs": [
    {
     "data": {
      "text/html": [
       "<div>\n",
       "<style scoped>\n",
       "    .dataframe tbody tr th:only-of-type {\n",
       "        vertical-align: middle;\n",
       "    }\n",
       "\n",
       "    .dataframe tbody tr th {\n",
       "        vertical-align: top;\n",
       "    }\n",
       "\n",
       "    .dataframe thead th {\n",
       "        text-align: right;\n",
       "    }\n",
       "</style>\n",
       "<table border=\"1\" class=\"dataframe\">\n",
       "  <thead>\n",
       "    <tr style=\"text-align: right;\">\n",
       "      <th></th>\n",
       "      <th>user_id</th>\n",
       "      <th>business_id</th>\n",
       "      <th>stars</th>\n",
       "      <th>date</th>\n",
       "      <th>text</th>\n",
       "      <th>useful</th>\n",
       "      <th>funny</th>\n",
       "      <th>cool</th>\n",
       "      <th>flesch_kincaid_grade_level</th>\n",
       "      <th>flesch_kincaid_reading_ease</th>\n",
       "      <th>dale_chall</th>\n",
       "    </tr>\n",
       "    <tr>\n",
       "      <th>review_id</th>\n",
       "      <th></th>\n",
       "      <th></th>\n",
       "      <th></th>\n",
       "      <th></th>\n",
       "      <th></th>\n",
       "      <th></th>\n",
       "      <th></th>\n",
       "      <th></th>\n",
       "      <th></th>\n",
       "      <th></th>\n",
       "      <th></th>\n",
       "    </tr>\n",
       "  </thead>\n",
       "  <tbody>\n",
       "    <tr>\n",
       "      <th>--vWmCoqCGZgcmsn7ELlUQ</th>\n",
       "      <td>tL2pS5UOmN6aAOi3Z-qFGg</td>\n",
       "      <td>EWtz2BMrvByiS8itZDaYPw</td>\n",
       "      <td>4</td>\n",
       "      <td>2017-04-20</td>\n",
       "      <td>We like to get away from Vegas sometimes by vi...</td>\n",
       "      <td>0</td>\n",
       "      <td>0</td>\n",
       "      <td>0</td>\n",
       "      <td>6.899429</td>\n",
       "      <td>65.545571</td>\n",
       "      <td>7.857556</td>\n",
       "    </tr>\n",
       "    <tr>\n",
       "      <th>-6-QUwvOznT99KcE0Aa_9g</th>\n",
       "      <td>5V8eXkTJb6IejJkMDaj_Bw</td>\n",
       "      <td>dIqMQYs6tmowQUygS8sQ6A</td>\n",
       "      <td>5</td>\n",
       "      <td>2011-04-27</td>\n",
       "      <td>Oh. Mygod. Ohmygod. I thought the first time I...</td>\n",
       "      <td>4</td>\n",
       "      <td>1</td>\n",
       "      <td>2</td>\n",
       "      <td>3.597647</td>\n",
       "      <td>85.573258</td>\n",
       "      <td>7.872169</td>\n",
       "    </tr>\n",
       "    <tr>\n",
       "      <th>-816-A_6HiplYYqC3rAniA</th>\n",
       "      <td>3wB-JjsUjkvdNUDRnChsVg</td>\n",
       "      <td>ajoqEHnCZTD8-8GqGLq9-Q</td>\n",
       "      <td>4</td>\n",
       "      <td>2009-11-17</td>\n",
       "      <td>The first time I walked through the Palms I wa...</td>\n",
       "      <td>1</td>\n",
       "      <td>0</td>\n",
       "      <td>0</td>\n",
       "      <td>4.277479</td>\n",
       "      <td>86.022941</td>\n",
       "      <td>8.697139</td>\n",
       "    </tr>\n",
       "    <tr>\n",
       "      <th>-8MnT6LVDFgphYyXtd-e8g</th>\n",
       "      <td>Y76nS3L426UCz7N_1pUfUQ</td>\n",
       "      <td>YF4QJ_j-PM7cMZja6K1MwQ</td>\n",
       "      <td>5</td>\n",
       "      <td>2016-06-22</td>\n",
       "      <td>Really liked this place! I came here for the R...</td>\n",
       "      <td>0</td>\n",
       "      <td>0</td>\n",
       "      <td>0</td>\n",
       "      <td>5.416364</td>\n",
       "      <td>82.352879</td>\n",
       "      <td>7.234876</td>\n",
       "    </tr>\n",
       "    <tr>\n",
       "      <th>-BydgOKSG3VKtGgxltlmCQ</th>\n",
       "      <td>nOTl4aPC4tKHK35T3bNauQ</td>\n",
       "      <td>zaJkOJU0EtsUyjjP-z59ow</td>\n",
       "      <td>2</td>\n",
       "      <td>2013-03-06</td>\n",
       "      <td>This place is a huge waste of money. It's clos...</td>\n",
       "      <td>3</td>\n",
       "      <td>1</td>\n",
       "      <td>2</td>\n",
       "      <td>4.158688</td>\n",
       "      <td>87.039253</td>\n",
       "      <td>6.748515</td>\n",
       "    </tr>\n",
       "  </tbody>\n",
       "</table>\n",
       "</div>"
      ],
      "text/plain": [
       "                                       user_id             business_id  stars  \\\n",
       "review_id                                                                       \n",
       "--vWmCoqCGZgcmsn7ELlUQ  tL2pS5UOmN6aAOi3Z-qFGg  EWtz2BMrvByiS8itZDaYPw      4   \n",
       "-6-QUwvOznT99KcE0Aa_9g  5V8eXkTJb6IejJkMDaj_Bw  dIqMQYs6tmowQUygS8sQ6A      5   \n",
       "-816-A_6HiplYYqC3rAniA  3wB-JjsUjkvdNUDRnChsVg  ajoqEHnCZTD8-8GqGLq9-Q      4   \n",
       "-8MnT6LVDFgphYyXtd-e8g  Y76nS3L426UCz7N_1pUfUQ  YF4QJ_j-PM7cMZja6K1MwQ      5   \n",
       "-BydgOKSG3VKtGgxltlmCQ  nOTl4aPC4tKHK35T3bNauQ  zaJkOJU0EtsUyjjP-z59ow      2   \n",
       "\n",
       "                             date  \\\n",
       "review_id                           \n",
       "--vWmCoqCGZgcmsn7ELlUQ 2017-04-20   \n",
       "-6-QUwvOznT99KcE0Aa_9g 2011-04-27   \n",
       "-816-A_6HiplYYqC3rAniA 2009-11-17   \n",
       "-8MnT6LVDFgphYyXtd-e8g 2016-06-22   \n",
       "-BydgOKSG3VKtGgxltlmCQ 2013-03-06   \n",
       "\n",
       "                                                                     text  \\\n",
       "review_id                                                                   \n",
       "--vWmCoqCGZgcmsn7ELlUQ  We like to get away from Vegas sometimes by vi...   \n",
       "-6-QUwvOznT99KcE0Aa_9g  Oh. Mygod. Ohmygod. I thought the first time I...   \n",
       "-816-A_6HiplYYqC3rAniA  The first time I walked through the Palms I wa...   \n",
       "-8MnT6LVDFgphYyXtd-e8g  Really liked this place! I came here for the R...   \n",
       "-BydgOKSG3VKtGgxltlmCQ  This place is a huge waste of money. It's clos...   \n",
       "\n",
       "                        useful  funny  cool  flesch_kincaid_grade_level  \\\n",
       "review_id                                                                 \n",
       "--vWmCoqCGZgcmsn7ELlUQ       0      0     0                    6.899429   \n",
       "-6-QUwvOznT99KcE0Aa_9g       4      1     2                    3.597647   \n",
       "-816-A_6HiplYYqC3rAniA       1      0     0                    4.277479   \n",
       "-8MnT6LVDFgphYyXtd-e8g       0      0     0                    5.416364   \n",
       "-BydgOKSG3VKtGgxltlmCQ       3      1     2                    4.158688   \n",
       "\n",
       "                        flesch_kincaid_reading_ease  dale_chall  \n",
       "review_id                                                        \n",
       "--vWmCoqCGZgcmsn7ELlUQ                    65.545571    7.857556  \n",
       "-6-QUwvOznT99KcE0Aa_9g                    85.573258    7.872169  \n",
       "-816-A_6HiplYYqC3rAniA                    86.022941    8.697139  \n",
       "-8MnT6LVDFgphYyXtd-e8g                    82.352879    7.234876  \n",
       "-BydgOKSG3VKtGgxltlmCQ                    87.039253    6.748515  "
      ]
     },
     "execution_count": 14,
     "metadata": {},
     "output_type": "execute_result"
    }
   ],
   "source": [
    "ddf.head()"
   ]
  },
  {
   "cell_type": "code",
   "execution_count": 15,
   "metadata": {},
   "outputs": [],
   "source": [
    "ddf.to_csv('reviews.csv')"
   ]
  },
  {
   "cell_type": "code",
   "execution_count": 16,
   "metadata": {},
   "outputs": [
    {
     "name": "stderr",
     "output_type": "stream",
     "text": [
      "tornado.application - ERROR - Exception in callback <bound method Client._heartbeat of <Client: scheduler='tcp://127.0.0.1:51178' processes=8 cores=8>>\n",
      "Traceback (most recent call last):\n",
      "  File \"C:\\Users\\michael\\Anaconda3\\lib\\site-packages\\tornado\\ioloop.py\", line 1026, in _run\n",
      "    return self.callback()\n",
      "  File \"C:\\Users\\michael\\Anaconda3\\lib\\site-packages\\distributed\\client.py\", line 846, in _heartbeat\n",
      "    self.scheduler_comm.send({'op': 'heartbeat'})\n",
      "  File \"C:\\Users\\michael\\Anaconda3\\lib\\site-packages\\distributed\\batched.py\", line 106, in send\n",
      "    raise CommClosedError\n",
      "distributed.comm.core.CommClosedError\n"
     ]
    }
   ],
   "source": [
    "client.close()"
   ]
  },
  {
   "cell_type": "markdown",
   "metadata": {},
   "source": [
    "## Analyzing the Results\n",
    "\n",
    "Things to do:\n",
    "* distribution of grades\n",
    "* grade level by business type\n",
    "* grade level by city\n",
    "* grade level affecting scores"
   ]
  },
  {
   "cell_type": "code",
   "execution_count": 17,
   "metadata": {},
   "outputs": [],
   "source": [
    "import matplotlib.pyplot as plt"
   ]
  },
  {
   "cell_type": "code",
   "execution_count": null,
   "metadata": {},
   "outputs": [],
   "source": [
    "df = pd.read_csv('reviews.csv')"
   ]
  },
  {
   "cell_type": "code",
   "execution_count": 18,
   "metadata": {},
   "outputs": [
    {
     "data": {
      "image/png": "[encoded data removed]",
      "text/plain": [
       "<matplotlib.figure.Figure at 0x269d9575630>"
      ]
     },
     "metadata": {},
     "output_type": "display_data"
    }
   ],
   "source": [
    "ax = df.dale_chall.plot(kind='hist')"
   ]
  },
  {
   "cell_type": "code",
   "execution_count": 25,
   "metadata": {},
   "outputs": [
    {
     "data": {
      "image/png": "[encoded data removed]",
      "text/plain": [
       "<matplotlib.figure.Figure at 0x269d95c5d30>"
      ]
     },
     "metadata": {},
     "output_type": "display_data"
    }
   ],
   "source": [
    "ax = df.flesch_kincaid_grade_level.plot(kind='hist')"
   ]
  },
  {
   "cell_type": "code",
   "execution_count": 20,
   "metadata": {},
   "outputs": [
    {
     "data": {
      "image/png": "[encoded data removed]",
      "text/plain": [
       "<matplotlib.figure.Figure at 0x269d9864e10>"
      ]
     },
     "metadata": {},
     "output_type": "display_data"
    }
   ],
   "source": [
    "ax = df.flesch_kincaid_reading_ease.plot(kind='hist')"
   ]
  },
  {
   "cell_type": "code",
   "execution_count": null,
   "metadata": {},
   "outputs": [],
   "source": []
  }
 ],
 "metadata": {
  "kernelspec": {
   "display_name": "Python 3",
   "language": "python",
   "name": "python3"
  },
  "language_info": {
   "codemirror_mode": {
    "name": "ipython",
    "version": 3
   },
   "file_extension": ".py",
   "mimetype": "text/x-python",
   "name": "python",
   "nbconvert_exporter": "python",
   "pygments_lexer": "ipython3",
   "version": "3.6.4"
  }
 },
 "nbformat": 4,
 "nbformat_minor": 2
}
