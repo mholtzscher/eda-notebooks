{
 "cells": [
  {
   "cell_type": "markdown",
   "metadata": {},
   "source": [
    "I recently came across this dataset from the Federal Election Commission and wanted to explore it a bit to see how money affected the election. Each plot aims to try and answer a question that I thought of while looking through the available data. This post is part 1 of my exploration and visualization of this dataset. \n",
    "\n",
    "Data is from the [FEC](http://classic.fec.gov/disclosurep/PDownload.do)"
   ]
  },
  {
   "cell_type": "code",
   "execution_count": 44,
   "metadata": {
    "collapsed": true
   },
   "outputs": [],
   "source": [
    "import pandas as pd\n",
    "import numpy as np\n",
    "import plotly.plotly as py\n",
    "import plotly.figure_factory as ff\n",
    "import plotly.graph_objs as go\n",
    "import plotly.offline as offline\n",
    "import cufflinks as cf"
   ]
  },
  {
   "cell_type": "code",
   "execution_count": 45,
   "metadata": {
    "collapsed": true
   },
   "outputs": [],
   "source": [
    "cf.set_config_file(theme='polar')\n",
    "# from plotly.offline import init_notebook_mode\n",
    "# init_notebook_mode(connected=True)\n",
    "# cf.go_offline()\n",
    "cf.go_online()"
   ]
  },
  {
   "cell_type": "markdown",
   "metadata": {
    "collapsed": true
   },
   "source": [
    "### Preparing The Data"
   ]
  },
  {
   "cell_type": "code",
   "execution_count": 46,
   "metadata": {},
   "outputs": [
    {
     "name": "stderr",
     "output_type": "stream",
     "text": [
      "C:\\Users\\mh024332\\AppData\\Local\\Continuum\\Anaconda3\\lib\\site-packages\\IPython\\core\\interactiveshell.py:2718: DtypeWarning:\n",
      "\n",
      "Columns (6,11,12,13) have mixed types. Specify dtype option on import or set low_memory=False.\n",
      "\n"
     ]
    }
   ],
   "source": [
    "url = 'https://storage.googleapis.com/mholtzscher-datasets/2016%20FEC%20Presidential/contributors.csv'\n",
    "df = pd.read_csv(url, index_col=False)"
   ]
  },
  {
   "cell_type": "markdown",
   "metadata": {},
   "source": [
    "#### Matching Candidates To Their Parties"
   ]
  },
  {
   "cell_type": "code",
   "execution_count": 47,
   "metadata": {
    "collapsed": true
   },
   "outputs": [],
   "source": [
    "parties = {'Rubio, Marco': 'Republican',\n",
    "           'Santorum, Richard J.': 'Republican',\n",
    "           'Perry, James R. (Rick)': 'Republican',\n",
    "           'Carson, Benjamin S.': 'Republican',\n",
    "           \"Cruz, Rafael Edward 'Ted'\": 'Republican',\n",
    "           'Paul, Rand': 'Republican',\n",
    "           'Clinton, Hillary Rodham': 'Democrat',\n",
    "           'Sanders, Bernard': 'Democrat',\n",
    "           'Fiorina, Carly': 'Republican',\n",
    "           'Huckabee, Mike': 'Republican',\n",
    "           'Pataki, George E: .': 'Republican',\n",
    "           \"O'Malley, Martin Joseph\": 'Democrat',\n",
    "           'Graham, Lindsey O.': 'Republican',\n",
    "           'Bush, Jeb': 'Republican',\n",
    "           'Trump, Donald J.': 'Republican',\n",
    "           'Jindal, Bobby': 'Republican',\n",
    "           'Christie, Christopher J.': 'Republican',\n",
    "           'Walker, Scott': 'Republican',\n",
    "           'Stein, Jill': \"Green Party\",\n",
    "           'Webb, James Henry Jr.': 'Democrat',\n",
    "           'Kasich, John R.': 'Republican',\n",
    "           'Gilmore, James S III': 'Republican',\n",
    "           'Lessig, Lawrence': 'Democrat',\n",
    "           'Johnson, Gary': 'Libertarian',\n",
    "           'McMullin, Evan': 'Independent'}\n",
    "df['party'] = df.cand_nm.map(parties)"
   ]
  },
  {
   "cell_type": "markdown",
   "metadata": {},
   "source": [
    "#### Filtering Out Refunds"
   ]
  },
  {
   "cell_type": "code",
   "execution_count": 48,
   "metadata": {
    "collapsed": true
   },
   "outputs": [],
   "source": [
    "df = df[df.contb_receipt_amt > 0]"
   ]
  },
  {
   "cell_type": "markdown",
   "metadata": {},
   "source": [
    "#### Cleaning Up Occupations"
   ]
  },
  {
   "cell_type": "code",
   "execution_count": 49,
   "metadata": {
    "collapsed": true
   },
   "outputs": [],
   "source": [
    "occ_mapping = {\n",
    "    'INFORMATION REQUESTED PER BEST EFFORTS' : 'NOT PROVIDED',\n",
    "    'INFORMATION REQUESTED' : 'NOT PROVIDED',\n",
    "    'INFORMATION REQUESTED (BEST EFFORTS)' : 'NOT PROVIDED',\n",
    "    'C.E.O.': 'CEO'\n",
    "}\n",
    "\n",
    "f = lambda x: occ_mapping.get(x, x)\n",
    "df.contbr_occupation = df.contbr_occupation.map(f)"
   ]
  },
  {
   "cell_type": "markdown",
   "metadata": {},
   "source": [
    "#### Create A DataFrame Filtered To The Final Major Candidates"
   ]
  },
  {
   "cell_type": "code",
   "execution_count": 50,
   "metadata": {},
   "outputs": [
    {
     "data": {
      "text/plain": [
       "array(['Clinton, Hillary Rodham', 'Trump, Donald J.'], dtype=object)"
      ]
     },
     "execution_count": 50,
     "metadata": {},
     "output_type": "execute_result"
    }
   ],
   "source": [
    "dff = df[df.cand_nm.isin(['Trump, Donald J.','Clinton, Hillary Rodham'])]\n",
    "dff.cand_nm.unique()"
   ]
  },
  {
   "cell_type": "markdown",
   "metadata": {},
   "source": [
    "### Which Party Received The Most Contributions?"
   ]
  },
  {
   "cell_type": "code",
   "execution_count": 51,
   "metadata": {
    "scrolled": false
   },
   "outputs": [
    {
     "data": {
      "text/html": [
       "<iframe id=\"igraph\" scrolling=\"no\" style=\"border:none;\" seamless=\"seamless\" src=\"https://plot.ly/~mholtzscher/77.embed\" height=\"525px\" width=\"100%\"></iframe>"
      ],
      "text/plain": [
       "<plotly.tools.PlotlyDisplay object>"
      ]
     },
     "execution_count": 51,
     "metadata": {},
     "output_type": "execute_result"
    }
   ],
   "source": [
    "party = df.groupby('party').contb_receipt_amt.sum().to_frame().reset_index()\n",
    "party.iplot(kind='pie', textinfo='value+percent', textposition='outside', labels='party', \n",
    "            values='contb_receipt_amt', filename='fec-2016-party-contributions',\n",
    "           title='2016 Total Contributions(USD) By Party')"
   ]
  },
  {
   "cell_type": "markdown",
   "metadata": {},
   "source": [
    "### Which Candidate Recieved The Most In Contributions?"
   ]
  },
  {
   "cell_type": "code",
   "execution_count": 52,
   "metadata": {
    "scrolled": false
   },
   "outputs": [
    {
     "data": {
      "text/html": [
       "<iframe id=\"igraph\" scrolling=\"no\" style=\"border:none;\" seamless=\"seamless\" src=\"https://plot.ly/~mholtzscher/79.embed\" height=\"525px\" width=\"100%\"></iframe>"
      ],
      "text/plain": [
       "<plotly.tools.PlotlyDisplay object>"
      ]
     },
     "execution_count": 52,
     "metadata": {},
     "output_type": "execute_result"
    }
   ],
   "source": [
    "candidate = df.groupby('cand_nm').contb_receipt_amt.sum().sort_values(ascending=False)\n",
    "candidate.iplot(kind='bar', yTitle='Contributions(USD)', \n",
    "    title='2016 Contributions(USD) By Presidential Candidate', filename='fec-2016-candidate-contributions')"
   ]
  },
  {
   "cell_type": "markdown",
   "metadata": {},
   "source": [
    "### Which Occupations Donated The Most Number Of Times?"
   ]
  },
  {
   "cell_type": "code",
   "execution_count": 53,
   "metadata": {},
   "outputs": [
    {
     "data": {
      "text/html": [
       "<iframe id=\"igraph\" scrolling=\"no\" style=\"border:none;\" seamless=\"seamless\" src=\"https://plot.ly/~mholtzscher/81.embed\" height=\"525px\" width=\"100%\"></iframe>"
      ],
      "text/plain": [
       "<plotly.tools.PlotlyDisplay object>"
      ]
     },
     "execution_count": 53,
     "metadata": {},
     "output_type": "execute_result"
    }
   ],
   "source": [
    "job = df['contbr_occupation'].value_counts()\n",
    "job[:25].iplot(kind='bar', filename='fec-2016-top-occupation-volume', yTitle='Number of Contributions', \n",
    "               title=\"Top 25 Occupations By Number of Contributions\")"
   ]
  },
  {
   "cell_type": "markdown",
   "metadata": {},
   "source": [
    "### Which Occupations Donated The Most?"
   ]
  },
  {
   "cell_type": "code",
   "execution_count": 54,
   "metadata": {},
   "outputs": [
    {
     "data": {
      "text/html": [
       "<iframe id=\"igraph\" scrolling=\"no\" style=\"border:none;\" seamless=\"seamless\" src=\"https://plot.ly/~mholtzscher/83.embed\" height=\"525px\" width=\"100%\"></iframe>"
      ],
      "text/plain": [
       "<plotly.tools.PlotlyDisplay object>"
      ]
     },
     "execution_count": 54,
     "metadata": {},
     "output_type": "execute_result"
    }
   ],
   "source": [
    "job = df.groupby('contbr_occupation').contb_receipt_amt.sum().sort_values(ascending=False)\n",
    "job[:25].iplot(kind='bar', filename='fec-2016-top-occupation-amounts', yTitle='Total Contribution', \n",
    "               title=\"Top 25 Occupations By Contribution Ammount\")"
   ]
  },
  {
   "cell_type": "markdown",
   "metadata": {},
   "source": [
    "### Which Occupations Donated The Most to Hillary Clinton?"
   ]
  },
  {
   "cell_type": "code",
   "execution_count": 55,
   "metadata": {},
   "outputs": [
    {
     "data": {
      "text/html": [
       "<iframe id=\"igraph\" scrolling=\"no\" style=\"border:none;\" seamless=\"seamless\" src=\"https://plot.ly/~mholtzscher/85.embed\" height=\"525px\" width=\"100%\"></iframe>"
      ],
      "text/plain": [
       "<plotly.tools.PlotlyDisplay object>"
      ]
     },
     "execution_count": 55,
     "metadata": {},
     "output_type": "execute_result"
    }
   ],
   "source": [
    "job = df[df['cand_nm'] == 'Clinton, Hillary Rodham'].groupby('contbr_occupation').contb_receipt_amt.sum().sort_values(ascending=False)\n",
    "job[:25].iplot(kind='bar', filename='fec-2016-top-occupation-amounts-clinton', yTitle='Total Contribution', \n",
    "               title=\"Clinton Donors Top 25 Occupations By Contribution Ammount\")"
   ]
  },
  {
   "cell_type": "markdown",
   "metadata": {},
   "source": [
    "### Which Occupations Donated The Most to Donald Trump?"
   ]
  },
  {
   "cell_type": "code",
   "execution_count": 56,
   "metadata": {},
   "outputs": [
    {
     "data": {
      "text/html": [
       "<iframe id=\"igraph\" scrolling=\"no\" style=\"border:none;\" seamless=\"seamless\" src=\"https://plot.ly/~mholtzscher/87.embed\" height=\"525px\" width=\"100%\"></iframe>"
      ],
      "text/plain": [
       "<plotly.tools.PlotlyDisplay object>"
      ]
     },
     "execution_count": 56,
     "metadata": {},
     "output_type": "execute_result"
    }
   ],
   "source": [
    "job = df[df['cand_nm'] == 'Trump, Donald J.'].groupby('contbr_occupation').contb_receipt_amt.sum().sort_values(ascending=False)\n",
    "job[:25].iplot(kind='bar', filename='fec-2016-top-occupation-amounts-trump', yTitle='Total Contribution', \n",
    "               title=\"Trump Donors Top 25 Occupations By Contribution Ammount\")"
   ]
  },
  {
   "cell_type": "markdown",
   "metadata": {},
   "source": [
    "### Which State Donated The Most Number Of Times?"
   ]
  },
  {
   "cell_type": "code",
   "execution_count": 57,
   "metadata": {},
   "outputs": [
    {
     "data": {
      "text/html": [
       "<iframe id=\"igraph\" scrolling=\"no\" style=\"border:none;\" seamless=\"seamless\" src=\"https://plot.ly/~mholtzscher/89.embed\" height=\"525px\" width=\"100%\"></iframe>"
      ],
      "text/plain": [
       "<plotly.tools.PlotlyDisplay object>"
      ]
     },
     "execution_count": 57,
     "metadata": {},
     "output_type": "execute_result"
    }
   ],
   "source": [
    "state = dff.contbr_st.value_counts().sort_values(ascending=False)[:20]\n",
    "state.iplot(kind='bar', filename='fec-2016-state-contributions-volume')"
   ]
  },
  {
   "cell_type": "markdown",
   "metadata": {},
   "source": [
    "### Which State Donated The Most?"
   ]
  },
  {
   "cell_type": "code",
   "execution_count": 58,
   "metadata": {},
   "outputs": [
    {
     "data": {
      "text/html": [
       "<iframe id=\"igraph\" scrolling=\"no\" style=\"border:none;\" seamless=\"seamless\" src=\"https://plot.ly/~mholtzscher/91.embed\" height=\"525px\" width=\"100%\"></iframe>"
      ],
      "text/plain": [
       "<plotly.tools.PlotlyDisplay object>"
      ]
     },
     "execution_count": 58,
     "metadata": {},
     "output_type": "execute_result"
    }
   ],
   "source": [
    "state_ammt = dff.groupby('contbr_st').contb_receipt_amt.sum().sort_values(ascending=False)[:20]\n",
    "state_ammt.iplot(kind='bar', filename='fec-2016-state-contributions-ammount')"
   ]
  },
  {
   "cell_type": "markdown",
   "metadata": {},
   "source": [
    "---\n",
    "The Jupyter Notebook for this work can be found on [GitHub](https://github.com/mholtzscher/2016_fec_presidential/blob/master/2016_presidential_contributions.ipynb)."
   ]
  }
 ],
 "metadata": {
  "kernelspec": {
   "display_name": "Python 3",
   "language": "python",
   "name": "python3"
  },
  "language_info": {
   "codemirror_mode": {
    "name": "ipython",
    "version": 3
   },
   "file_extension": ".py",
   "mimetype": "text/x-python",
   "name": "python",
   "nbconvert_exporter": "python",
   "pygments_lexer": "ipython3",
   "version": "3.6.1"
  }
 },
 "nbformat": 4,
 "nbformat_minor": 2
}
