{
 "cells": [
  {
   "cell_type": "markdown",
   "metadata": {},
   "source": [
    "In this post I wanted to look at the distribution of donation sizes. I was curious if one of the candidates was better at getting small donations versus large contributions from organizations.\n",
    "\n",
    "Data is from the [FEC](http://classic.fec.gov/disclosurep/PDownload.do)"
   ]
  },
  {
   "cell_type": "code",
   "execution_count": 171,
   "metadata": {
    "collapsed": true
   },
   "outputs": [],
   "source": [
    "import pandas as pd\n",
    "import plotly.plotly as py\n",
    "import cufflinks as cf"
   ]
  },
  {
   "cell_type": "code",
   "execution_count": 172,
   "metadata": {},
   "outputs": [],
   "source": [
    "cf.set_config_file(theme='polar')\n",
    "# from plotly.offline import init_notebook_mode\n",
    "# init_notebook_mode(connected=True)\n",
    "# cf.go_offline()\n",
    "cf.go_online()"
   ]
  },
  {
   "cell_type": "markdown",
   "metadata": {
    "collapsed": true
   },
   "source": [
    "### Preparing The Data"
   ]
  },
  {
   "cell_type": "code",
   "execution_count": 173,
   "metadata": {},
   "outputs": [
    {
     "name": "stderr",
     "output_type": "stream",
     "text": [
      "C:\\Users\\mh024332\\AppData\\Local\\Continuum\\Anaconda3\\lib\\site-packages\\IPython\\core\\interactiveshell.py:2718: DtypeWarning:\n",
      "\n",
      "Columns (6,11,12,13) have mixed types. Specify dtype option on import or set low_memory=False.\n",
      "\n"
     ]
    }
   ],
   "source": [
    "df = pd.read_csv(\"P00000001-ALL.csv\", index_col=False)"
   ]
  },
  {
   "cell_type": "markdown",
   "metadata": {},
   "source": [
    "#### Filtering Out Refunds"
   ]
  },
  {
   "cell_type": "code",
   "execution_count": 174,
   "metadata": {
    "collapsed": true
   },
   "outputs": [],
   "source": [
    "df = df[df.contb_receipt_amt > 0]"
   ]
  },
  {
   "cell_type": "markdown",
   "metadata": {},
   "source": [
    "#### Create A DataFrame Filtered To The Final Major Candidates"
   ]
  },
  {
   "cell_type": "code",
   "execution_count": 175,
   "metadata": {
    "collapsed": true
   },
   "outputs": [],
   "source": [
    "df = df[df.cand_nm.isin(['Trump, Donald J.','Clinton, Hillary Rodham'])]"
   ]
  },
  {
   "cell_type": "markdown",
   "metadata": {},
   "source": [
    "### What Is The Most Common Contribution Size?"
   ]
  },
  {
   "cell_type": "code",
   "execution_count": 176,
   "metadata": {
    "scrolled": false
   },
   "outputs": [],
   "source": [
    "bins = [0, 5, 10, 25, 50, 75, 100, 500, 1000, 10000, 100000, 1000000, 10000000, 100000000]\n",
    "group_names = ['0 to 5', '5 to 10', '10 to 25', '25 to 50', '50 to 75', '75 to 100', '100 to 500', \n",
    "                '500 to 1000', '1000 to 10000', '10000 to 100000', '100000 to 1000000', \n",
    "               '1000000 to 10000000', '10000000 to 100000000']\n",
    "\n",
    "categories = pd.cut(df['contb_receipt_amt'], bins, labels=group_names)\n",
    "df['categories'] = pd.cut(df['contb_receipt_amt'], bins, labels=group_names)\n",
    "df['cat_str'] = df['categories'].astype('str')"
   ]
  },
  {
   "cell_type": "code",
   "execution_count": 177,
   "metadata": {
    "scrolled": false
   },
   "outputs": [
    {
     "data": {
      "text/html": [
       "<iframe id=\"igraph\" scrolling=\"no\" style=\"border:none;\" seamless=\"seamless\" src=\"https://plot.ly/~mholtzscher/101.embed\" height=\"525px\" width=\"100%\"></iframe>"
      ],
      "text/plain": [
       "<plotly.tools.PlotlyDisplay object>"
      ]
     },
     "execution_count": 177,
     "metadata": {},
     "output_type": "execute_result"
    }
   ],
   "source": [
    "df['cat_str'].value_counts().iplot(kind='bar', yTitle='Number of Contributions',\n",
    "                                   title='Distribution of Contribution Sizes', filename='2016-fec-donation-sizes')"
   ]
  },
  {
   "cell_type": "markdown",
   "metadata": {},
   "source": [
    "### What Is The Most Common Contribution Size By Candidate? "
   ]
  },
  {
   "cell_type": "code",
   "execution_count": 178,
   "metadata": {
    "scrolled": false
   },
   "outputs": [
    {
     "data": {
      "text/html": [
       "<iframe id=\"igraph\" scrolling=\"no\" style=\"border:none;\" seamless=\"seamless\" src=\"https://plot.ly/~mholtzscher/103.embed\" height=\"525px\" width=\"100%\"></iframe>"
      ],
      "text/plain": [
       "<plotly.tools.PlotlyDisplay object>"
      ]
     },
     "execution_count": 178,
     "metadata": {},
     "output_type": "execute_result"
    }
   ],
   "source": [
    "r = df[['cat_str', 'cand_nm']].groupby('cat_str').cand_nm.value_counts()\n",
    "r = r.unstack().reset_index().set_index('cat_str')\n",
    "r = r.reindex(index = group_names)\n",
    "r.iplot(kind='bar', barmode='stack', filename='2016-fec-contribution-size-comparison', \n",
    "        yTitle='Number of Contributions', xTitle='Contribution Range In USD')"
   ]
  },
  {
   "cell_type": "markdown",
   "metadata": {},
   "source": [
    "---\n",
    "The Jupyter Notebook for this work can be found on [GitHub](https://github.com/mholtzscher/2016_fec_presidential/blob/master/2016_presidential_contributions-bins.ipynb)."
   ]
  }
 ],
 "metadata": {
  "kernelspec": {
   "display_name": "Python 3",
   "language": "python",
   "name": "python3"
  },
  "language_info": {
   "codemirror_mode": {
    "name": "ipython",
    "version": 3
   },
   "file_extension": ".py",
   "mimetype": "text/x-python",
   "name": "python",
   "nbconvert_exporter": "python",
   "pygments_lexer": "ipython3",
   "version": "3.6.1"
  }
 },
 "nbformat": 4,
 "nbformat_minor": 2
}
