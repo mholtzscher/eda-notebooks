{
 "cells": [
  {
   "cell_type": "markdown",
   "metadata": {},
   "source": [
    "Continuing from my last post, I wanted to see how the distribution of donations looked across the US states.\n",
    "\n",
    "Data is from the [FEC](http://classic.fec.gov/disclosurep/PDownload.do)"
   ]
  },
  {
   "cell_type": "code",
   "execution_count": 11,
   "metadata": {
    "collapsed": true
   },
   "outputs": [],
   "source": [
    "import pandas as pd\n",
    "import plotly.plotly as py\n",
    "import plotly.offline as offline\n",
    "import cufflinks as cf"
   ]
  },
  {
   "cell_type": "code",
   "execution_count": 12,
   "metadata": {},
   "outputs": [],
   "source": [
    "# cf.set_config_file(theme='polar')\n",
    "# from plotly.offline import init_notebook_mode\n",
    "# init_notebook_mode(connected=True)\n",
    "# cf.go_offline()\n",
    "cf.go_online()"
   ]
  },
  {
   "cell_type": "markdown",
   "metadata": {
    "collapsed": true
   },
   "source": [
    "### Preparing The Data"
   ]
  },
  {
   "cell_type": "code",
   "execution_count": 13,
   "metadata": {},
   "outputs": [
    {
     "name": "stderr",
     "output_type": "stream",
     "text": [
      "C:\\Users\\mh024332\\AppData\\Local\\Continuum\\Anaconda3\\lib\\site-packages\\IPython\\core\\interactiveshell.py:2718: DtypeWarning:\n",
      "\n",
      "Columns (6,11,12,13) have mixed types. Specify dtype option on import or set low_memory=False.\n",
      "\n"
     ]
    }
   ],
   "source": [
    "url = 'contributors.csv'\n",
    "df = pd.read_csv(url, index_col=False)"
   ]
  },
  {
   "cell_type": "markdown",
   "metadata": {},
   "source": [
    "#### Matching Candidates To Their Parties"
   ]
  },
  {
   "cell_type": "code",
   "execution_count": 14,
   "metadata": {
    "collapsed": true
   },
   "outputs": [],
   "source": [
    "parties = {'Rubio, Marco': 'Republican',\n",
    "           'Santorum, Richard J.': 'Republican',\n",
    "           'Perry, James R. (Rick)': 'Republican',\n",
    "           'Carson, Benjamin S.': 'Republican',\n",
    "           \"Cruz, Rafael Edward 'Ted'\": 'Republican',\n",
    "           'Paul, Rand': 'Republican',\n",
    "           'Clinton, Hillary Rodham': 'Democrat',\n",
    "           'Sanders, Bernard': 'Democrat',\n",
    "           'Fiorina, Carly': 'Republican',\n",
    "           'Huckabee, Mike': 'Republican',\n",
    "           'Pataki, George E: .': 'Republican',\n",
    "           \"O'Malley, Martin Joseph\": 'Democrat',\n",
    "           'Graham, Lindsey O.': 'Republican',\n",
    "           'Bush, Jeb': 'Republican',\n",
    "           'Trump, Donald J.': 'Republican',\n",
    "           'Jindal, Bobby': 'Republican',\n",
    "           'Christie, Christopher J.': 'Republican',\n",
    "           'Walker, Scott': 'Republican',\n",
    "           'Stein, Jill': \"Green Party\",\n",
    "           'Webb, James Henry Jr.': 'Democrat',\n",
    "           'Kasich, John R.': 'Republican',\n",
    "           'Gilmore, James S III': 'Republican',\n",
    "           'Lessig, Lawrence': 'Democrat',\n",
    "           'Johnson, Gary': 'Libertarian',\n",
    "           'McMullin, Evan': 'Independent'}\n",
    "df['party'] = df.cand_nm.map(parties)"
   ]
  },
  {
   "cell_type": "markdown",
   "metadata": {},
   "source": [
    "#### Filtering Out Refunds"
   ]
  },
  {
   "cell_type": "code",
   "execution_count": 15,
   "metadata": {
    "collapsed": true
   },
   "outputs": [],
   "source": [
    "df = df[df.contb_receipt_amt > 0]"
   ]
  },
  {
   "cell_type": "markdown",
   "metadata": {},
   "source": [
    "#### Split By Party"
   ]
  },
  {
   "cell_type": "code",
   "execution_count": 16,
   "metadata": {
    "collapsed": true
   },
   "outputs": [],
   "source": [
    "democrats = df[df['party'] == 'Democrat']\n",
    "democrats = democrats.groupby('contbr_st').contb_receipt_amt.sum()\n",
    "democrats = democrats.to_frame().reset_index()\n",
    "\n",
    "republicans = df[df['party'] == 'Republican']\n",
    "republicans = republicans.groupby('contbr_st').contb_receipt_amt.sum()\n",
    "republicans = republicans.to_frame().reset_index()"
   ]
  },
  {
   "cell_type": "markdown",
   "metadata": {},
   "source": [
    "#### Filter To Valid States"
   ]
  },
  {
   "cell_type": "code",
   "execution_count": 17,
   "metadata": {
    "collapsed": true
   },
   "outputs": [],
   "source": [
    "states = ['AL','AK','AZ','AR','CA','CO','CT','DE','FL','GA','HI','ID','IL','IN','IA','KS',\n",
    "          'KY','LA','ME','MD','MA','MI','MN','MS','MO','MT','NE','NV','NH','NJ','NM','NY',\n",
    "          'NC','ND','OH','OK','OR','PA','RI','SC','SD','TN','TX','UT','VT','VA','WA','WV','WI','WY']\n",
    "democrats = democrats[democrats.contbr_st.isin(states)]\n",
    "republicans = republicans[republicans.contbr_st.isin(states)]"
   ]
  },
  {
   "cell_type": "markdown",
   "metadata": {},
   "source": [
    "## Contribution Map For Democrats"
   ]
  },
  {
   "cell_type": "code",
   "execution_count": 18,
   "metadata": {},
   "outputs": [
    {
     "data": {
      "text/html": [
       "<iframe id=\"igraph\" scrolling=\"no\" style=\"border:none;\" seamless=\"seamless\" src=\"https://plot.ly/~mholtzscher/99.embed\" height=\"525px\" width=\"100%\"></iframe>"
      ],
      "text/plain": [
       "<plotly.tools.PlotlyDisplay object>"
      ]
     },
     "execution_count": 18,
     "metadata": {},
     "output_type": "execute_result"
    }
   ],
   "source": [
    "scl = [[0.0, 'rgb(239,243,255)'],[0.2, 'rgb(198,219,239)'],[0.4, 'rgb(158,202,225)'],\\\n",
    "            [0.6, 'rgb(107,174,214)'],[0.8, 'rgb(49,130,189)'],[1.0, 'rgb(8,81,156)']]\n",
    "\n",
    "data = [ dict(\n",
    "        type='choropleth',\n",
    "        colorscale = scl,\n",
    "        autocolorscale = False,\n",
    "        locations = democrats['contbr_st'],\n",
    "        z = democrats['contb_receipt_amt'].astype(float),\n",
    "        locationmode = 'USA-states',\n",
    "        marker = dict(\n",
    "            line = dict (\n",
    "                color = 'rgb(255,255,255)',\n",
    "                width = 2\n",
    "            ) ),\n",
    "        colorbar = dict(\n",
    "            title = \"Millions USD\")\n",
    "        ) ]\n",
    "\n",
    "layout = dict(\n",
    "        title = '2016 US Election Contributions(Democrats)',\n",
    "        geo = dict(\n",
    "            scope='usa',\n",
    "            projection=dict( type='albers usa' ),\n",
    "            showlakes = True,\n",
    "            lakecolor = 'rgb(255, 255, 255)'),\n",
    "             )\n",
    "    \n",
    "fig = dict( data=data, layout=layout )\n",
    "py.iplot( fig, filename='2016-election-democrat-ammount-map' )"
   ]
  },
  {
   "cell_type": "markdown",
   "metadata": {},
   "source": [
    "## Contribution Map For Republicans"
   ]
  },
  {
   "cell_type": "code",
   "execution_count": 19,
   "metadata": {},
   "outputs": [
    {
     "data": {
      "text/html": [
       "<iframe id=\"igraph\" scrolling=\"no\" style=\"border:none;\" seamless=\"seamless\" src=\"https://plot.ly/~mholtzscher/97.embed\" height=\"525px\" width=\"100%\"></iframe>"
      ],
      "text/plain": [
       "<plotly.tools.PlotlyDisplay object>"
      ]
     },
     "execution_count": 19,
     "metadata": {},
     "output_type": "execute_result"
    }
   ],
   "source": [
    "scl = [[0.0, 'rgb(254,229,217)'],[0.2, 'rgb(252,187,161)'],[0.4, 'rgb(252,146,114)'],\\\n",
    "            [0.6, 'rgb(251,106,74)'],[0.8, 'rgb(222,45,38)'],[1.0, 'rgb(165,15,21)']]\n",
    "\n",
    "data = [ dict(\n",
    "        type='choropleth',\n",
    "        colorscale = scl,\n",
    "        autocolorscale = False,\n",
    "        locations = republicans['contbr_st'],\n",
    "        z = republicans['contb_receipt_amt'].astype(float),\n",
    "        locationmode = 'USA-states',\n",
    "        marker = dict(\n",
    "            line = dict (\n",
    "                color = 'rgb(255,255,255)',\n",
    "                width = 2\n",
    "            ) ),\n",
    "        colorbar = dict(\n",
    "            title = \"Millions USD\")\n",
    "        ) ]\n",
    "\n",
    "layout = dict(\n",
    "        title = '2016 US Election Contributions(Republican)',\n",
    "        geo = dict(\n",
    "            scope='usa',\n",
    "            projection=dict( type='albers usa' ),\n",
    "            showlakes = True,\n",
    "            lakecolor = 'rgb(255, 255, 255)'),\n",
    "             )\n",
    "    \n",
    "fig = dict( data=data, layout=layout )\n",
    "py.iplot( fig, filename='2016-election-republican-map' )"
   ]
  },
  {
   "cell_type": "markdown",
   "metadata": {},
   "source": [
    "---\n",
    "The Jupyter Notebook for this work can be found on [GitHub](https://github.com/mholtzscher/2016_fec_presidential/blob/master/2016_presidential_contributions-map.ipynb)."
   ]
  }
 ],
 "metadata": {
  "kernelspec": {
   "display_name": "Python 3",
   "language": "python",
   "name": "python3"
  },
  "language_info": {
   "codemirror_mode": {
    "name": "ipython",
    "version": 3
   },
   "file_extension": ".py",
   "mimetype": "text/x-python",
   "name": "python",
   "nbconvert_exporter": "python",
   "pygments_lexer": "ipython3",
   "version": "3.6.1"
  }
 },
 "nbformat": 4,
 "nbformat_minor": 2
}
