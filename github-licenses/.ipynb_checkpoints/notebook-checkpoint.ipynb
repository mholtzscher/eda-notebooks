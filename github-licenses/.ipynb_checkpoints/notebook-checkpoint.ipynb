{
 "cells": [
  {
   "cell_type": "markdown",
   "metadata": {
    "_cell_guid": "7e5ccfe5-5839-4e64-9f6b-00b36517ce5b",
    "_uuid": "3dd2e0e09f00ea8739a39fd71bcbcfab87425550"
   },
   "source": [
    "# Which licenses are used the most?"
   ]
  },
  {
   "cell_type": "code",
   "execution_count": null,
   "metadata": {
    "_cell_guid": "b1076dfc-b9ad-4769-8c92-a6c4dae69d19",
    "_uuid": "8f2839f25d086af736a60e9eeb907d3b93b6e0e5",
    "collapsed": true
   },
   "outputs": [],
   "source": [
    "import pandas as pd\n",
    "from google.cloud import bigquery\n",
    "from bq_helper import BigQueryHelper\n",
    "\n",
    "# Visualizations\n",
    "import plotly.offline as py\n",
    "py.init_notebook_mode(connected=True)\n",
    "import plotly.graph_objs as go"
   ]
  },
  {
   "cell_type": "code",
   "execution_count": null,
   "metadata": {
    "_cell_guid": "1e082cbd-3e2c-439e-8e59-210671074cb5",
    "_uuid": "34bf1428b5f927cc82c1baaf2867f1af106d218c",
    "collapsed": true
   },
   "outputs": [],
   "source": [
    "bq = BigQueryHelper('bigquery-public-data', 'github_repos')"
   ]
  },
  {
   "cell_type": "code",
   "execution_count": null,
   "metadata": {
    "_cell_guid": "79c7e3d0-c299-4dcb-8224-4455121ee9b0",
    "_uuid": "d629ff2d2480ee46fbb7e2d37f6b5fab8052498a",
    "collapsed": true
   },
   "outputs": [],
   "source": [
    "QUERY = \"\"\"\n",
    "        SELECT license, COUNT(license) as license_count\n",
    "        FROM `bigquery-public-data.github_repos.licenses`\n",
    "        GROUP BY license\n",
    "        \"\"\"\n",
    "\n",
    "df = bq.query_to_pandas_safe(QUERY)"
   ]
  },
  {
   "cell_type": "code",
   "execution_count": null,
   "metadata": {
    "_cell_guid": "3b939090-fcee-4d64-9e39-d35b07482fb9",
    "_uuid": "dd30420d93a121fb9f9de0782422ee15727dfbf7",
    "collapsed": true
   },
   "outputs": [],
   "source": [
    "df = df.sort_values('license_count', ascending=False)\n",
    "data = [\n",
    "    go.Bar(\n",
    "        x=df['license'], \n",
    "        y=df['license_count'],\n",
    "        name=df['license'].tolist()\n",
    "    )\n",
    "]\n",
    "\n",
    "layout = dict(\n",
    "    title = 'Distribution of GitHub Licenses',\n",
    ")\n",
    "fig = go.Figure(data=data, layout=layout)\n",
    "py.iplot(fig, filename='pandas-bar-chart')"
   ]
  },
  {
   "cell_type": "code",
   "execution_count": null,
   "metadata": {
    "_cell_guid": "c0fda8af-0dc4-41c6-9ec4-282d7a7a5936",
    "_uuid": "88a37069d7c5b4c977954acba868edc4dd4306a4",
    "collapsed": true
   },
   "outputs": [],
   "source": []
  }
 ],
 "metadata": {
  "kernelspec": {
   "display_name": "Python 3",
   "language": "python",
   "name": "python3"
  },
  "language_info": {
   "codemirror_mode": {
    "name": "ipython",
    "version": 3
   },
   "file_extension": ".py",
   "mimetype": "text/x-python",
   "name": "python",
   "nbconvert_exporter": "python",
   "pygments_lexer": "ipython3",
   "version": "3.6.4"
  }
 },
 "nbformat": 4,
 "nbformat_minor": 1
}
