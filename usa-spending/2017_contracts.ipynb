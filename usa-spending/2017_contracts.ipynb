{
 "cells": [
  {
   "cell_type": "code",
   "execution_count": 2,
   "metadata": {
    "collapsed": true
   },
   "outputs": [],
   "source": [
    "import pandas as pd\n",
    "import numpy as np\n",
    "import plotly.plotly as py\n",
    "import plotly.figure_factory as ff\n",
    "import plotly.graph_objs as go\n",
    "import plotly.offline as offline\n",
    "import cufflinks as cf"
   ]
  },
  {
   "cell_type": "code",
   "execution_count": 3,
   "metadata": {},
   "outputs": [
    {
     "data": {
      "text/html": [
       "<script>requirejs.config({paths: { 'plotly': ['https://cdn.plot.ly/plotly-latest.min']},});if(!window.Plotly) {{require(['plotly'],function(plotly) {window.Plotly=plotly;});}}</script>"
      ],
      "text/vnd.plotly.v1+html": [
       "<script>requirejs.config({paths: { 'plotly': ['https://cdn.plot.ly/plotly-latest.min']},});if(!window.Plotly) {{require(['plotly'],function(plotly) {window.Plotly=plotly;});}}</script>"
      ]
     },
     "metadata": {},
     "output_type": "display_data"
    },
    {
     "name": "stderr",
     "output_type": "stream",
     "text": [
      "IOPub data rate exceeded.\n",
      "The notebook server will temporarily stop sending output\n",
      "to the client in order to avoid crashing it.\n",
      "To change this limit, set the config variable\n",
      "`--NotebookApp.iopub_data_rate_limit`.\n"
     ]
    }
   ],
   "source": [
    "cf.set_config_file(theme='polar')\n",
    "from plotly.offline import init_notebook_mode\n",
    "init_notebook_mode(connected=True)\n",
    "cf.go_offline()\n",
    "# cf.go_online()"
   ]
  },
  {
   "cell_type": "code",
   "execution_count": 4,
   "metadata": {},
   "outputs": [
    {
     "name": "stderr",
     "output_type": "stream",
     "text": [
      "C:\\Users\\mh024332\\AppData\\Local\\Continuum\\Anaconda3\\lib\\site-packages\\IPython\\core\\interactiveshell.py:2718: DtypeWarning:\n",
      "\n",
      "Columns (17,26,30,40,42,46,47,53,54,57,62,63,66,67,70,76,79,96,99,101,102,116,117,174,212) have mixed types. Specify dtype option on import or set low_memory=False.\n",
      "\n"
     ]
    }
   ],
   "source": [
    "df = pd.read_csv('2017_All_Contracts_Full_20170715.csv')"
   ]
  },
  {
   "cell_type": "code",
   "execution_count": 10,
   "metadata": {},
   "outputs": [
    {
     "data": {
      "text/plain": [
       "unique_transaction_id                               object\n",
       "transaction_status                                  object\n",
       "dollarsobligated                                   float64\n",
       "baseandexercisedoptionsvalue                       float64\n",
       "baseandalloptionsvalue                             float64\n",
       "maj_agency_cat                                      object\n",
       "mod_agency                                          object\n",
       "maj_fund_agency_cat                                 object\n",
       "contractingofficeagencyid                           object\n",
       "contractingofficeid                                 object\n",
       "fundingrequestingagencyid                           object\n",
       "fundingrequestingofficeid                           object\n",
       "fundedbyforeignentity                               object\n",
       "signeddate                                          object\n",
       "effectivedate                                       object\n",
       "currentcompletiondate                               object\n",
       "ultimatecompletiondate                              object\n",
       "lastdatetoorder                                     object\n",
       "contractactiontype                                  object\n",
       "reasonformodification                               object\n",
       "typeofcontractpricing                               object\n",
       "priceevaluationpercentdifference                   float64\n",
       "subcontractplan                                     object\n",
       "lettercontract                                      object\n",
       "multiyearcontract                                   object\n",
       "performancebasedservicecontract                     object\n",
       "majorprogramcode                                    object\n",
       "contingencyhumanitarianpeacekeepingoperation        object\n",
       "contractfinancing                                   object\n",
       "costorpricingdata                                   object\n",
       "                                                    ...   \n",
       "ispartnershiporlimitedliabilitypartnership          object\n",
       "isschooldistrictlocalgovernment                     object\n",
       "issmallagriculturalcooperative                      object\n",
       "issoleproprietorship                                object\n",
       "istownshiplocalgovernment                           object\n",
       "istriballyownedfirm                                 object\n",
       "istribalcollege                                     object\n",
       "isalaskannativeownedcorporationorfirm               object\n",
       "iscorporateentitytaxexempt                          object\n",
       "iswomenownedsmallbusiness                           object\n",
       "isecondisadvwomenownedsmallbusiness                 object\n",
       "isjointventurewomenownedsmallbusiness               object\n",
       "isjointventureecondisadvwomenownedsmallbusiness     object\n",
       "walshhealyact                                       object\n",
       "servicecontractact                                  object\n",
       "davisbaconact                                       object\n",
       "clingercohenact                                     object\n",
       "otherstatutoryauthority                             object\n",
       "prime_awardee_executive1                            object\n",
       "prime_awardee_executive1_compensation              float64\n",
       "prime_awardee_executive2                            object\n",
       "prime_awardee_executive2_compensation              float64\n",
       "prime_awardee_executive3                            object\n",
       "prime_awardee_executive3_compensation              float64\n",
       "prime_awardee_executive4                            object\n",
       "prime_awardee_executive4_compensation              float64\n",
       "prime_awardee_executive5                            object\n",
       "prime_awardee_executive5_compensation              float64\n",
       "interagencycontractingauthority                     object\n",
       "last_modified_date                                  object\n",
       "Length: 225, dtype: object"
      ]
     },
     "execution_count": 10,
     "metadata": {},
     "output_type": "execute_result"
    }
   ],
   "source": []
  }
 ],
 "metadata": {
  "kernelspec": {
   "display_name": "Python 3",
   "language": "python",
   "name": "python3"
  },
  "language_info": {
   "codemirror_mode": {
    "name": "ipython",
    "version": 3
   },
   "file_extension": ".py",
   "mimetype": "text/x-python",
   "name": "python",
   "nbconvert_exporter": "python",
   "pygments_lexer": "ipython3",
   "version": "3.6.1"
  }
 },
 "nbformat": 4,
 "nbformat_minor": 2
}
